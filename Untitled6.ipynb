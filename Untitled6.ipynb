{
  "nbformat": 4,
  "nbformat_minor": 0,
  "metadata": {
    "colab": {
      "provenance": [],
      "authorship_tag": "ABX9TyOlLvub2f4gAybDMplZRbG8",
      "include_colab_link": true
    },
    "kernelspec": {
      "name": "python3",
      "display_name": "Python 3"
    },
    "language_info": {
      "name": "python"
    }
  },
  "cells": [
    {
      "cell_type": "markdown",
      "metadata": {
        "id": "view-in-github",
        "colab_type": "text"
      },
      "source": [
        "<a href=\"https://colab.research.google.com/github/rahmosthated/password-validator/blob/main/Untitled6.ipynb\" target=\"_parent\"><img src=\"https://colab.research.google.com/assets/colab-badge.svg\" alt=\"Open In Colab\"/></a>"
      ]
    },
    {
      "cell_type": "code",
      "execution_count": 4,
      "metadata": {
        "colab": {
          "base_uri": "https://localhost:8080/"
        },
        "id": "Rw2Bjl1M8NqQ",
        "outputId": "823e68eb-fdd7-46c0-f3be-f65d68ba2216"
      },
      "outputs": [
        {
          "output_type": "stream",
          "name": "stdout",
          "text": [
            "Enter a password: admin432\n",
            "Password is valid.\n"
          ]
        }
      ],
      "source": [
        "# Ask the user to input a password\n",
        "password = input(\"Enter a password: \")\n",
        "\n",
        "# Check the password using if, elif, and else statements\n",
        "if len(password) >= 8 and \"admin\" in password and \"123\" not in password:\n",
        "    print(\"Password is valid.\")\n",
        "elif len(password) < 8:\n",
        "    print(\"Password is too short. It must be at least 8 characters long.\")\n",
        "elif \"admin\" not in password:\n",
        "    print(\"Password must contain the word 'admin'.\")\n",
        "elif \"123\" in password:\n",
        "    print(\"Password cannot contain the sequence '123'.\")\n",
        "else:\n",
        "    print(\"Password is invalid due to unspecified reasons.\")\n"
      ]
    }
  ]
}